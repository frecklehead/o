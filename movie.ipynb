{
  "metadata": {
    "kernelspec": {
      "language": "python",
      "display_name": "Python 3",
      "name": "python3"
    },
    "language_info": {
      "name": "python",
      "version": "3.7.10",
      "mimetype": "text/x-python",
      "codemirror_mode": {
        "name": "ipython",
        "version": 3
      },
      "pygments_lexer": "ipython3",
      "nbconvert_exporter": "python",
      "file_extension": ".py"
    },
    "colab": {
      "provenance": [],
      "include_colab_link": true
    }
  },
  "nbformat_minor": 0,
  "nbformat": 4,
  "cells": [
    {
      "cell_type": "markdown",
      "metadata": {
        "id": "view-in-github",
        "colab_type": "text"
      },
      "source": [
        "<a href=\"https://colab.research.google.com/github/frecklehead/o/blob/master/movie.ipynb\" target=\"_parent\"><img src=\"https://colab.research.google.com/assets/colab-badge.svg\" alt=\"Open In Colab\"/></a>"
      ]
    },
    {
      "cell_type": "code",
      "source": [
        "\n",
        "import numpy as np # linear algebra\n",
        "import pandas as pd\n",
        "\n",
        "\n",
        "\n",
        "\n",
        "\n"
      ],
      "metadata": {
        "_uuid": "8f2839f25d086af736a60e9eeb907d3b93b6e0e5",
        "_cell_guid": "b1076dfc-b9ad-4769-8c92-a6c4dae69d19",
        "execution": {
          "iopub.status.busy": "2021-06-21T12:32:55.393741Z",
          "iopub.execute_input": "2021-06-21T12:32:55.394360Z",
          "iopub.status.idle": "2021-06-21T12:32:55.415999Z",
          "shell.execute_reply.started": "2021-06-21T12:32:55.394257Z",
          "shell.execute_reply": "2021-06-21T12:32:55.414664Z"
        },
        "trusted": true,
        "id": "Y1YVV3RMnKC0"
      },
      "execution_count": 5,
      "outputs": []
    },
    {
      "cell_type": "code",
      "source": [
        "credits = pd.read_csv('/content/tmdb_5000_credits.csv')"
      ],
      "metadata": {
        "colab": {
          "base_uri": "https://localhost:8080/",
          "height": 200
        },
        "id": "Wv2YKbW9nxFc",
        "outputId": "59d29147-9b70-45e5-a5ca-fb7e8716a230"
      },
      "execution_count": 7,
      "outputs": [
        {
          "output_type": "error",
          "ename": "ParserError",
          "evalue": "Error tokenizing data. C error: EOF inside string starting at row 1494",
          "traceback": [
            "\u001b[0;31m---------------------------------------------------------------------------\u001b[0m",
            "\u001b[0;31mParserError\u001b[0m                               Traceback (most recent call last)",
            "\u001b[0;32m<ipython-input-7-923e48a51dfc>\u001b[0m in \u001b[0;36m<cell line: 1>\u001b[0;34m()\u001b[0m\n\u001b[0;32m----> 1\u001b[0;31m \u001b[0mcredits\u001b[0m \u001b[0;34m=\u001b[0m \u001b[0mpd\u001b[0m\u001b[0;34m.\u001b[0m\u001b[0mread_csv\u001b[0m\u001b[0;34m(\u001b[0m\u001b[0;34m'/content/tmdb_5000_credits.csv'\u001b[0m\u001b[0;34m)\u001b[0m\u001b[0;34m\u001b[0m\u001b[0;34m\u001b[0m\u001b[0m\n\u001b[0m",
            "\u001b[0;32m/usr/local/lib/python3.10/dist-packages/pandas/io/parsers/readers.py\u001b[0m in \u001b[0;36mread_csv\u001b[0;34m(filepath_or_buffer, sep, delimiter, header, names, index_col, usecols, dtype, engine, converters, true_values, false_values, skipinitialspace, skiprows, skipfooter, nrows, na_values, keep_default_na, na_filter, verbose, skip_blank_lines, parse_dates, infer_datetime_format, keep_date_col, date_parser, date_format, dayfirst, cache_dates, iterator, chunksize, compression, thousands, decimal, lineterminator, quotechar, quoting, doublequote, escapechar, comment, encoding, encoding_errors, dialect, on_bad_lines, delim_whitespace, low_memory, memory_map, float_precision, storage_options, dtype_backend)\u001b[0m\n\u001b[1;32m    910\u001b[0m     \u001b[0mkwds\u001b[0m\u001b[0;34m.\u001b[0m\u001b[0mupdate\u001b[0m\u001b[0;34m(\u001b[0m\u001b[0mkwds_defaults\u001b[0m\u001b[0;34m)\u001b[0m\u001b[0;34m\u001b[0m\u001b[0;34m\u001b[0m\u001b[0m\n\u001b[1;32m    911\u001b[0m \u001b[0;34m\u001b[0m\u001b[0m\n\u001b[0;32m--> 912\u001b[0;31m     \u001b[0;32mreturn\u001b[0m \u001b[0m_read\u001b[0m\u001b[0;34m(\u001b[0m\u001b[0mfilepath_or_buffer\u001b[0m\u001b[0;34m,\u001b[0m \u001b[0mkwds\u001b[0m\u001b[0;34m)\u001b[0m\u001b[0;34m\u001b[0m\u001b[0;34m\u001b[0m\u001b[0m\n\u001b[0m\u001b[1;32m    913\u001b[0m \u001b[0;34m\u001b[0m\u001b[0m\n\u001b[1;32m    914\u001b[0m \u001b[0;34m\u001b[0m\u001b[0m\n",
            "\u001b[0;32m/usr/local/lib/python3.10/dist-packages/pandas/io/parsers/readers.py\u001b[0m in \u001b[0;36m_read\u001b[0;34m(filepath_or_buffer, kwds)\u001b[0m\n\u001b[1;32m    581\u001b[0m \u001b[0;34m\u001b[0m\u001b[0m\n\u001b[1;32m    582\u001b[0m     \u001b[0;32mwith\u001b[0m \u001b[0mparser\u001b[0m\u001b[0;34m:\u001b[0m\u001b[0;34m\u001b[0m\u001b[0;34m\u001b[0m\u001b[0m\n\u001b[0;32m--> 583\u001b[0;31m         \u001b[0;32mreturn\u001b[0m \u001b[0mparser\u001b[0m\u001b[0;34m.\u001b[0m\u001b[0mread\u001b[0m\u001b[0;34m(\u001b[0m\u001b[0mnrows\u001b[0m\u001b[0;34m)\u001b[0m\u001b[0;34m\u001b[0m\u001b[0;34m\u001b[0m\u001b[0m\n\u001b[0m\u001b[1;32m    584\u001b[0m \u001b[0;34m\u001b[0m\u001b[0m\n\u001b[1;32m    585\u001b[0m \u001b[0;34m\u001b[0m\u001b[0m\n",
            "\u001b[0;32m/usr/local/lib/python3.10/dist-packages/pandas/io/parsers/readers.py\u001b[0m in \u001b[0;36mread\u001b[0;34m(self, nrows)\u001b[0m\n\u001b[1;32m   1702\u001b[0m                     \u001b[0mcolumns\u001b[0m\u001b[0;34m,\u001b[0m\u001b[0;34m\u001b[0m\u001b[0;34m\u001b[0m\u001b[0m\n\u001b[1;32m   1703\u001b[0m                     \u001b[0mcol_dict\u001b[0m\u001b[0;34m,\u001b[0m\u001b[0;34m\u001b[0m\u001b[0;34m\u001b[0m\u001b[0m\n\u001b[0;32m-> 1704\u001b[0;31m                 \u001b[0;34m)\u001b[0m \u001b[0;34m=\u001b[0m \u001b[0mself\u001b[0m\u001b[0;34m.\u001b[0m\u001b[0m_engine\u001b[0m\u001b[0;34m.\u001b[0m\u001b[0mread\u001b[0m\u001b[0;34m(\u001b[0m  \u001b[0;31m# type: ignore[attr-defined]\u001b[0m\u001b[0;34m\u001b[0m\u001b[0;34m\u001b[0m\u001b[0m\n\u001b[0m\u001b[1;32m   1705\u001b[0m                     \u001b[0mnrows\u001b[0m\u001b[0;34m\u001b[0m\u001b[0;34m\u001b[0m\u001b[0m\n\u001b[1;32m   1706\u001b[0m                 )\n",
            "\u001b[0;32m/usr/local/lib/python3.10/dist-packages/pandas/io/parsers/c_parser_wrapper.py\u001b[0m in \u001b[0;36mread\u001b[0;34m(self, nrows)\u001b[0m\n\u001b[1;32m    232\u001b[0m         \u001b[0;32mtry\u001b[0m\u001b[0;34m:\u001b[0m\u001b[0;34m\u001b[0m\u001b[0;34m\u001b[0m\u001b[0m\n\u001b[1;32m    233\u001b[0m             \u001b[0;32mif\u001b[0m \u001b[0mself\u001b[0m\u001b[0;34m.\u001b[0m\u001b[0mlow_memory\u001b[0m\u001b[0;34m:\u001b[0m\u001b[0;34m\u001b[0m\u001b[0;34m\u001b[0m\u001b[0m\n\u001b[0;32m--> 234\u001b[0;31m                 \u001b[0mchunks\u001b[0m \u001b[0;34m=\u001b[0m \u001b[0mself\u001b[0m\u001b[0;34m.\u001b[0m\u001b[0m_reader\u001b[0m\u001b[0;34m.\u001b[0m\u001b[0mread_low_memory\u001b[0m\u001b[0;34m(\u001b[0m\u001b[0mnrows\u001b[0m\u001b[0;34m)\u001b[0m\u001b[0;34m\u001b[0m\u001b[0;34m\u001b[0m\u001b[0m\n\u001b[0m\u001b[1;32m    235\u001b[0m                 \u001b[0;31m# destructive to chunks\u001b[0m\u001b[0;34m\u001b[0m\u001b[0;34m\u001b[0m\u001b[0m\n\u001b[1;32m    236\u001b[0m                 \u001b[0mdata\u001b[0m \u001b[0;34m=\u001b[0m \u001b[0m_concatenate_chunks\u001b[0m\u001b[0;34m(\u001b[0m\u001b[0mchunks\u001b[0m\u001b[0;34m)\u001b[0m\u001b[0;34m\u001b[0m\u001b[0;34m\u001b[0m\u001b[0m\n",
            "\u001b[0;32m/usr/local/lib/python3.10/dist-packages/pandas/_libs/parsers.pyx\u001b[0m in \u001b[0;36mpandas._libs.parsers.TextReader.read_low_memory\u001b[0;34m()\u001b[0m\n",
            "\u001b[0;32m/usr/local/lib/python3.10/dist-packages/pandas/_libs/parsers.pyx\u001b[0m in \u001b[0;36mpandas._libs.parsers.TextReader._read_rows\u001b[0;34m()\u001b[0m\n",
            "\u001b[0;32m/usr/local/lib/python3.10/dist-packages/pandas/_libs/parsers.pyx\u001b[0m in \u001b[0;36mpandas._libs.parsers.TextReader._tokenize_rows\u001b[0;34m()\u001b[0m\n",
            "\u001b[0;32m/usr/local/lib/python3.10/dist-packages/pandas/_libs/parsers.pyx\u001b[0m in \u001b[0;36mpandas._libs.parsers.TextReader._check_tokenize_status\u001b[0;34m()\u001b[0m\n",
            "\u001b[0;32m/usr/local/lib/python3.10/dist-packages/pandas/_libs/parsers.pyx\u001b[0m in \u001b[0;36mpandas._libs.parsers.raise_parser_error\u001b[0;34m()\u001b[0m\n",
            "\u001b[0;31mParserError\u001b[0m: Error tokenizing data. C error: EOF inside string starting at row 1494"
          ]
        }
      ]
    },
    {
      "cell_type": "code",
      "source": [
        "movies = pd.read_csv('/content/tmdb_5000_movies.csv')\n"
      ],
      "metadata": {
        "execution": {
          "iopub.status.busy": "2021-06-21T12:36:31.347717Z",
          "iopub.execute_input": "2021-06-21T12:36:31.348105Z",
          "iopub.status.idle": "2021-06-21T12:36:32.003856Z",
          "shell.execute_reply.started": "2021-06-21T12:36:31.348073Z",
          "shell.execute_reply": "2021-06-21T12:36:32.002744Z"
        },
        "trusted": true,
        "id": "ukESv1QOnKDD"
      },
      "execution_count": null,
      "outputs": []
    },
    {
      "cell_type": "code",
      "source": [
        "movies.head(2)"
      ],
      "metadata": {
        "execution": {
          "iopub.status.busy": "2021-06-21T12:36:33.757346Z",
          "iopub.execute_input": "2021-06-21T12:36:33.757778Z",
          "iopub.status.idle": "2021-06-21T12:36:33.781729Z",
          "shell.execute_reply.started": "2021-06-21T12:36:33.757743Z",
          "shell.execute_reply": "2021-06-21T12:36:33.780738Z"
        },
        "trusted": true,
        "id": "QdMgCcuynKDG"
      },
      "execution_count": null,
      "outputs": []
    },
    {
      "cell_type": "code",
      "source": [
        "movies.shape"
      ],
      "metadata": {
        "execution": {
          "iopub.status.busy": "2021-06-21T12:33:06.307921Z",
          "iopub.execute_input": "2021-06-21T12:33:06.308311Z",
          "iopub.status.idle": "2021-06-21T12:33:06.316052Z",
          "shell.execute_reply.started": "2021-06-21T12:33:06.308279Z",
          "shell.execute_reply": "2021-06-21T12:33:06.314903Z"
        },
        "trusted": true,
        "id": "ct58JmZgnKDI"
      },
      "execution_count": null,
      "outputs": []
    },
    {
      "cell_type": "code",
      "source": [
        "credits.head()"
      ],
      "metadata": {
        "execution": {
          "iopub.status.busy": "2021-06-21T12:33:08.787389Z",
          "iopub.execute_input": "2021-06-21T12:33:08.787791Z",
          "iopub.status.idle": "2021-06-21T12:33:08.800864Z",
          "shell.execute_reply.started": "2021-06-21T12:33:08.787758Z",
          "shell.execute_reply": "2021-06-21T12:33:08.799834Z"
        },
        "trusted": true,
        "id": "E7nqjofFnKDK"
      },
      "execution_count": null,
      "outputs": []
    },
    {
      "cell_type": "code",
      "source": [
        "movies = movies.merge(credits,on='title')"
      ],
      "metadata": {
        "execution": {
          "iopub.status.busy": "2021-06-21T12:36:38.686521Z",
          "iopub.execute_input": "2021-06-21T12:36:38.687005Z",
          "iopub.status.idle": "2021-06-21T12:36:38.713343Z",
          "shell.execute_reply.started": "2021-06-21T12:36:38.686963Z",
          "shell.execute_reply": "2021-06-21T12:36:38.711939Z"
        },
        "trusted": true,
        "id": "Rsd5nxLwnKDN"
      },
      "execution_count": null,
      "outputs": []
    },
    {
      "cell_type": "code",
      "source": [
        "movies.head()\n",
        "# budget\n",
        "# homepage\n",
        "# id\n",
        "# original_language\n",
        "# original_title\n",
        "# popularity\n",
        "# production_comapny\n",
        "# production_countries\n",
        "# release-date(not sure)"
      ],
      "metadata": {
        "execution": {
          "iopub.status.busy": "2021-06-19T12:48:23.470187Z",
          "iopub.execute_input": "2021-06-19T12:48:23.470754Z",
          "iopub.status.idle": "2021-06-19T12:48:23.5041Z",
          "shell.execute_reply.started": "2021-06-19T12:48:23.470724Z",
          "shell.execute_reply": "2021-06-19T12:48:23.503327Z"
        },
        "trusted": true,
        "id": "8gyAsKE4nKDO"
      },
      "execution_count": null,
      "outputs": []
    },
    {
      "cell_type": "code",
      "source": [
        "movies = movies[['movie_id','title','overview','genres','keywords','cast','crew']]"
      ],
      "metadata": {
        "execution": {
          "iopub.status.busy": "2021-06-21T12:36:41.393326Z",
          "iopub.execute_input": "2021-06-21T12:36:41.393733Z",
          "iopub.status.idle": "2021-06-21T12:36:41.406883Z",
          "shell.execute_reply.started": "2021-06-21T12:36:41.393699Z",
          "shell.execute_reply": "2021-06-21T12:36:41.405822Z"
        },
        "trusted": true,
        "id": "Td9jJZP-nKDP"
      },
      "execution_count": null,
      "outputs": []
    },
    {
      "cell_type": "code",
      "source": [
        "movies.head()"
      ],
      "metadata": {
        "execution": {
          "iopub.status.busy": "2021-06-21T12:33:39.516481Z",
          "iopub.execute_input": "2021-06-21T12:33:39.517061Z",
          "iopub.status.idle": "2021-06-21T12:33:39.532499Z",
          "shell.execute_reply.started": "2021-06-21T12:33:39.517012Z",
          "shell.execute_reply": "2021-06-21T12:33:39.531584Z"
        },
        "trusted": true,
        "id": "nIBFgvrynKDQ"
      },
      "execution_count": null,
      "outputs": []
    },
    {
      "cell_type": "code",
      "source": [
        "import ast"
      ],
      "metadata": {
        "execution": {
          "iopub.status.busy": "2021-06-21T12:34:19.382331Z",
          "iopub.execute_input": "2021-06-21T12:34:19.382856Z",
          "iopub.status.idle": "2021-06-21T12:34:19.387416Z",
          "shell.execute_reply.started": "2021-06-21T12:34:19.382822Z",
          "shell.execute_reply": "2021-06-21T12:34:19.386451Z"
        },
        "trusted": true,
        "id": "-T3ggFannKDS"
      },
      "execution_count": null,
      "outputs": []
    },
    {
      "cell_type": "code",
      "source": [
        "def convert(text):\n",
        "    L = []\n",
        "    for i in ast.literal_eval(text):\n",
        "        L.append(i['name'])\n",
        "    return L"
      ],
      "metadata": {
        "execution": {
          "iopub.status.busy": "2021-06-21T12:36:47.539904Z",
          "iopub.execute_input": "2021-06-21T12:36:47.540453Z",
          "iopub.status.idle": "2021-06-21T12:36:47.545014Z",
          "shell.execute_reply.started": "2021-06-21T12:36:47.540418Z",
          "shell.execute_reply": "2021-06-21T12:36:47.544243Z"
        },
        "trusted": true,
        "id": "2ynNWBWJnKDU"
      },
      "execution_count": null,
      "outputs": []
    },
    {
      "cell_type": "code",
      "source": [
        "movies.dropna(inplace=True)"
      ],
      "metadata": {
        "execution": {
          "iopub.status.busy": "2021-06-21T12:36:50.059006Z",
          "iopub.execute_input": "2021-06-21T12:36:50.059538Z",
          "iopub.status.idle": "2021-06-21T12:36:50.073095Z",
          "shell.execute_reply.started": "2021-06-21T12:36:50.059504Z",
          "shell.execute_reply": "2021-06-21T12:36:50.071577Z"
        },
        "trusted": true,
        "id": "sVB3eRm_nKDV"
      },
      "execution_count": null,
      "outputs": []
    },
    {
      "cell_type": "code",
      "source": [
        "movies['genres'] = movies['genres'].apply(convert)\n",
        "movies.head()"
      ],
      "metadata": {
        "execution": {
          "iopub.status.busy": "2021-06-21T12:36:52.343645Z",
          "iopub.execute_input": "2021-06-21T12:36:52.344121Z",
          "iopub.status.idle": "2021-06-21T12:36:52.523910Z",
          "shell.execute_reply.started": "2021-06-21T12:36:52.344082Z",
          "shell.execute_reply": "2021-06-21T12:36:52.522805Z"
        },
        "trusted": true,
        "id": "PlMIJ4MdnKDW"
      },
      "execution_count": null,
      "outputs": []
    },
    {
      "cell_type": "code",
      "source": [
        "movies['keywords'] = movies['keywords'].apply(convert)\n",
        "movies.head()"
      ],
      "metadata": {
        "execution": {
          "iopub.status.busy": "2021-06-21T12:36:55.304070Z",
          "iopub.execute_input": "2021-06-21T12:36:55.304439Z",
          "iopub.status.idle": "2021-06-21T12:36:55.738525Z",
          "shell.execute_reply.started": "2021-06-21T12:36:55.304408Z",
          "shell.execute_reply": "2021-06-21T12:36:55.737123Z"
        },
        "trusted": true,
        "id": "4qlv1DoPnKDZ"
      },
      "execution_count": null,
      "outputs": []
    },
    {
      "cell_type": "code",
      "source": [
        "import ast\n",
        "ast.literal_eval('[{\"id\": 28, \"name\": \"Action\"}, {\"id\": 12, \"name\": \"Adventure\"}, {\"id\": 14, \"name\": \"Fantasy\"}, {\"id\": 878, \"name\": \"Science Fiction\"}]')"
      ],
      "metadata": {
        "execution": {
          "iopub.status.busy": "2021-06-19T13:07:21.572154Z",
          "iopub.execute_input": "2021-06-19T13:07:21.572473Z",
          "iopub.status.idle": "2021-06-19T13:07:21.578686Z",
          "shell.execute_reply.started": "2021-06-19T13:07:21.572446Z",
          "shell.execute_reply": "2021-06-19T13:07:21.577661Z"
        },
        "trusted": true,
        "id": "kZjFjzT4nKDb"
      },
      "execution_count": null,
      "outputs": []
    },
    {
      "cell_type": "code",
      "source": [
        "def convert3(text):\n",
        "    L = []\n",
        "    counter = 0\n",
        "    for i in ast.literal_eval(text):\n",
        "        if counter < 3:\n",
        "            L.append(i['name'])\n",
        "        counter+=1\n",
        "    return L"
      ],
      "metadata": {
        "execution": {
          "iopub.status.busy": "2021-06-21T12:36:59.510859Z",
          "iopub.execute_input": "2021-06-21T12:36:59.511226Z",
          "iopub.status.idle": "2021-06-21T12:36:59.517043Z",
          "shell.execute_reply.started": "2021-06-21T12:36:59.511192Z",
          "shell.execute_reply": "2021-06-21T12:36:59.515878Z"
        },
        "trusted": true,
        "id": "o23qNRHZnKDc"
      },
      "execution_count": null,
      "outputs": []
    },
    {
      "cell_type": "code",
      "source": [
        "movies['cast'] = movies['cast'].apply(convert)\n",
        "movies.head()"
      ],
      "metadata": {
        "execution": {
          "iopub.status.busy": "2021-06-21T12:37:00.828661Z",
          "iopub.execute_input": "2021-06-21T12:37:00.829409Z",
          "iopub.status.idle": "2021-06-21T12:37:04.117090Z",
          "shell.execute_reply.started": "2021-06-21T12:37:00.829355Z",
          "shell.execute_reply": "2021-06-21T12:37:04.115822Z"
        },
        "trusted": true,
        "id": "09prWpCLnKDe"
      },
      "execution_count": null,
      "outputs": []
    },
    {
      "cell_type": "code",
      "source": [
        "movies['cast'] = movies['cast'].apply(lambda x:x[0:3])"
      ],
      "metadata": {
        "execution": {
          "iopub.status.busy": "2021-06-21T12:37:07.352464Z",
          "iopub.execute_input": "2021-06-21T12:37:07.352886Z",
          "iopub.status.idle": "2021-06-21T12:37:07.367808Z",
          "shell.execute_reply.started": "2021-06-21T12:37:07.352854Z",
          "shell.execute_reply": "2021-06-21T12:37:07.366250Z"
        },
        "trusted": true,
        "id": "VlRG9VWsnKDg"
      },
      "execution_count": null,
      "outputs": []
    },
    {
      "cell_type": "code",
      "source": [
        "def fetch_director(text):\n",
        "    L = []\n",
        "    for i in ast.literal_eval(text):\n",
        "        if i['job'] == 'Director':\n",
        "            L.append(i['name'])\n",
        "    return L"
      ],
      "metadata": {
        "execution": {
          "iopub.status.busy": "2021-06-21T12:37:09.762909Z",
          "iopub.execute_input": "2021-06-21T12:37:09.763317Z",
          "iopub.status.idle": "2021-06-21T12:37:09.770917Z",
          "shell.execute_reply.started": "2021-06-21T12:37:09.763278Z",
          "shell.execute_reply": "2021-06-21T12:37:09.770002Z"
        },
        "trusted": true,
        "id": "wneGGEAZnKDg"
      },
      "execution_count": null,
      "outputs": []
    },
    {
      "cell_type": "code",
      "source": [
        "movies['crew'] = movies['crew'].apply(fetch_director)"
      ],
      "metadata": {
        "execution": {
          "iopub.status.busy": "2021-06-21T12:37:12.189921Z",
          "iopub.execute_input": "2021-06-21T12:37:12.190468Z",
          "iopub.status.idle": "2021-06-21T12:37:15.825662Z",
          "shell.execute_reply.started": "2021-06-21T12:37:12.190407Z",
          "shell.execute_reply": "2021-06-21T12:37:15.824562Z"
        },
        "trusted": true,
        "id": "f8IskGsPnKDh"
      },
      "execution_count": null,
      "outputs": []
    },
    {
      "cell_type": "code",
      "source": [
        "#movies['overview'] = movies['overview'].apply(lambda x:x.split())\n",
        "movies.sample(5)"
      ],
      "metadata": {
        "execution": {
          "iopub.status.busy": "2021-06-21T12:34:54.994397Z",
          "iopub.execute_input": "2021-06-21T12:34:54.994779Z",
          "iopub.status.idle": "2021-06-21T12:34:55.019276Z",
          "shell.execute_reply.started": "2021-06-21T12:34:54.994738Z",
          "shell.execute_reply": "2021-06-21T12:34:55.017718Z"
        },
        "trusted": true,
        "id": "VkcMWx22nKDi"
      },
      "execution_count": null,
      "outputs": []
    },
    {
      "cell_type": "code",
      "source": [
        "def collapse(L):\n",
        "    L1 = []\n",
        "    for i in L:\n",
        "        L1.append(i.replace(\" \",\"\"))\n",
        "    return L1"
      ],
      "metadata": {
        "execution": {
          "iopub.status.busy": "2021-06-21T12:37:20.072749Z",
          "iopub.execute_input": "2021-06-21T12:37:20.073320Z",
          "iopub.status.idle": "2021-06-21T12:37:20.079118Z",
          "shell.execute_reply.started": "2021-06-21T12:37:20.073270Z",
          "shell.execute_reply": "2021-06-21T12:37:20.077997Z"
        },
        "trusted": true,
        "id": "m3A8ilurnKDj"
      },
      "execution_count": null,
      "outputs": []
    },
    {
      "cell_type": "code",
      "source": [
        "movies['cast'] = movies['cast'].apply(collapse)\n",
        "movies['crew'] = movies['crew'].apply(collapse)\n",
        "movies['genres'] = movies['genres'].apply(collapse)\n",
        "movies['keywords'] = movies['keywords'].apply(collapse)"
      ],
      "metadata": {
        "execution": {
          "iopub.status.busy": "2021-06-21T12:37:21.282768Z",
          "iopub.execute_input": "2021-06-21T12:37:21.283329Z",
          "iopub.status.idle": "2021-06-21T12:37:21.486755Z",
          "shell.execute_reply.started": "2021-06-21T12:37:21.283292Z",
          "shell.execute_reply": "2021-06-21T12:37:21.485878Z"
        },
        "trusted": true,
        "id": "fK3JewrKnKDk"
      },
      "execution_count": null,
      "outputs": []
    },
    {
      "cell_type": "code",
      "source": [
        "movies.head()"
      ],
      "metadata": {
        "execution": {
          "iopub.status.busy": "2021-06-21T12:35:23.278025Z",
          "iopub.execute_input": "2021-06-21T12:35:23.278589Z",
          "iopub.status.idle": "2021-06-21T12:35:23.311346Z",
          "shell.execute_reply.started": "2021-06-21T12:35:23.278539Z",
          "shell.execute_reply": "2021-06-21T12:35:23.309971Z"
        },
        "trusted": true,
        "id": "6I5fXPdnnKDk"
      },
      "execution_count": null,
      "outputs": []
    },
    {
      "cell_type": "code",
      "source": [
        "movies['overview'] = movies['overview'].apply(lambda x:x.split())"
      ],
      "metadata": {
        "execution": {
          "iopub.status.busy": "2021-06-21T12:37:31.936003Z",
          "iopub.execute_input": "2021-06-21T12:37:31.936583Z",
          "iopub.status.idle": "2021-06-21T12:37:31.975155Z",
          "shell.execute_reply.started": "2021-06-21T12:37:31.936546Z",
          "shell.execute_reply": "2021-06-21T12:37:31.973928Z"
        },
        "trusted": true,
        "id": "LnlTSJzDnKDl"
      },
      "execution_count": null,
      "outputs": []
    },
    {
      "cell_type": "code",
      "source": [
        "movies['tags'] = movies['overview'] + movies['genres'] + movies['keywords'] + movies['cast'] + movies['crew']"
      ],
      "metadata": {
        "execution": {
          "iopub.status.busy": "2021-06-21T12:37:34.465925Z",
          "iopub.execute_input": "2021-06-21T12:37:34.466349Z",
          "iopub.status.idle": "2021-06-21T12:37:34.572742Z",
          "shell.execute_reply.started": "2021-06-21T12:37:34.466313Z",
          "shell.execute_reply": "2021-06-21T12:37:34.571676Z"
        },
        "trusted": true,
        "id": "ty3QWDztnKDm"
      },
      "execution_count": null,
      "outputs": []
    },
    {
      "cell_type": "code",
      "source": [
        "new = movies.drop(columns=['overview','genres','keywords','cast','crew'])\n",
        "#new.head()"
      ],
      "metadata": {
        "execution": {
          "iopub.status.busy": "2021-06-21T12:37:40.974644Z",
          "iopub.execute_input": "2021-06-21T12:37:40.975174Z",
          "iopub.status.idle": "2021-06-21T12:37:40.981843Z",
          "shell.execute_reply.started": "2021-06-21T12:37:40.975140Z",
          "shell.execute_reply": "2021-06-21T12:37:40.981059Z"
        },
        "trusted": true,
        "id": "uPa1dcvRnKDn"
      },
      "execution_count": null,
      "outputs": []
    },
    {
      "cell_type": "code",
      "source": [
        "new['tags'] = new['tags'].apply(lambda x: \" \".join(x))\n",
        "new.head()"
      ],
      "metadata": {
        "execution": {
          "iopub.status.busy": "2021-06-21T12:38:00.130879Z",
          "iopub.execute_input": "2021-06-21T12:38:00.131473Z",
          "iopub.status.idle": "2021-06-21T12:38:00.160438Z",
          "shell.execute_reply.started": "2021-06-21T12:38:00.131439Z",
          "shell.execute_reply": "2021-06-21T12:38:00.159476Z"
        },
        "trusted": true,
        "id": "hc6FwQdJnKDn"
      },
      "execution_count": null,
      "outputs": []
    },
    {
      "cell_type": "code",
      "source": [
        "from sklearn.feature_extraction.text import CountVectorizer\n",
        "cv = CountVectorizer(max_features=5000,stop_words='english')\n",
        ""
      ],
      "metadata": {
        "execution": {
          "iopub.status.busy": "2021-06-21T12:38:06.544599Z",
          "iopub.execute_input": "2021-06-21T12:38:06.545110Z",
          "iopub.status.idle": "2021-06-21T12:38:07.488307Z",
          "shell.execute_reply.started": "2021-06-21T12:38:06.545079Z",
          "shell.execute_reply": "2021-06-21T12:38:07.487238Z"
        },
        "trusted": true,
        "id": "OJCUxg0tnKDp"
      },
      "execution_count": null,
      "outputs": []
    },
    {
      "cell_type": "code",
      "source": [
        "vector = cv.fit_transform(new['tags']).toarray()"
      ],
      "metadata": {
        "execution": {
          "iopub.status.busy": "2021-06-21T12:38:10.163889Z",
          "iopub.execute_input": "2021-06-21T12:38:10.164314Z",
          "iopub.status.idle": "2021-06-21T12:38:10.821200Z",
          "shell.execute_reply.started": "2021-06-21T12:38:10.164279Z",
          "shell.execute_reply": "2021-06-21T12:38:10.820175Z"
        },
        "trusted": true,
        "id": "4CwzCP3mnKDr"
      },
      "execution_count": null,
      "outputs": []
    },
    {
      "cell_type": "code",
      "source": [
        "vector.shape"
      ],
      "metadata": {
        "execution": {
          "iopub.status.busy": "2021-06-19T14:00:41.894223Z",
          "iopub.execute_input": "2021-06-19T14:00:41.894747Z",
          "iopub.status.idle": "2021-06-19T14:00:41.900786Z",
          "shell.execute_reply.started": "2021-06-19T14:00:41.894699Z",
          "shell.execute_reply": "2021-06-19T14:00:41.899989Z"
        },
        "trusted": true,
        "id": "4yYT0QfKnKDs"
      },
      "execution_count": null,
      "outputs": []
    },
    {
      "cell_type": "code",
      "source": [
        "from sklearn.metrics.pairwise import cosine_similarity"
      ],
      "metadata": {
        "execution": {
          "iopub.status.busy": "2021-06-21T12:38:13.339041Z",
          "iopub.execute_input": "2021-06-21T12:38:13.339451Z",
          "iopub.status.idle": "2021-06-21T12:38:13.390575Z",
          "shell.execute_reply.started": "2021-06-21T12:38:13.339412Z",
          "shell.execute_reply": "2021-06-21T12:38:13.389373Z"
        },
        "trusted": true,
        "id": "7JzTGy0QnKDs"
      },
      "execution_count": null,
      "outputs": []
    },
    {
      "cell_type": "code",
      "source": [
        "similarity = cosine_similarity(vector)"
      ],
      "metadata": {
        "execution": {
          "iopub.status.busy": "2021-06-21T12:38:15.769495Z",
          "iopub.execute_input": "2021-06-21T12:38:15.770001Z",
          "iopub.status.idle": "2021-06-21T12:38:18.170463Z",
          "shell.execute_reply.started": "2021-06-21T12:38:15.769960Z",
          "shell.execute_reply": "2021-06-21T12:38:18.169319Z"
        },
        "trusted": true,
        "id": "ycPgCkrpnKDt"
      },
      "execution_count": null,
      "outputs": []
    },
    {
      "cell_type": "code",
      "source": [
        "similarity"
      ],
      "metadata": {
        "execution": {
          "iopub.status.busy": "2021-06-19T14:06:45.472777Z",
          "iopub.execute_input": "2021-06-19T14:06:45.473087Z",
          "iopub.status.idle": "2021-06-19T14:06:45.479647Z",
          "shell.execute_reply.started": "2021-06-19T14:06:45.473061Z",
          "shell.execute_reply": "2021-06-19T14:06:45.478831Z"
        },
        "trusted": true,
        "id": "nHgH3iw0nKDt"
      },
      "execution_count": null,
      "outputs": []
    },
    {
      "cell_type": "code",
      "source": [
        "new[new['title'] == 'The Lego Movie'].index[0]"
      ],
      "metadata": {
        "execution": {
          "iopub.status.busy": "2021-06-19T14:08:46.7159Z",
          "iopub.execute_input": "2021-06-19T14:08:46.716222Z",
          "iopub.status.idle": "2021-06-19T14:08:46.7239Z",
          "shell.execute_reply.started": "2021-06-19T14:08:46.716196Z",
          "shell.execute_reply": "2021-06-19T14:08:46.722946Z"
        },
        "trusted": true,
        "id": "AlKluyXTnKDt"
      },
      "execution_count": null,
      "outputs": []
    },
    {
      "cell_type": "code",
      "source": [
        "def recommend(movie):\n",
        "    index = new[new['title'] == movie].index[0]\n",
        "    distances = sorted(list(enumerate(similarity[index])),reverse=True,key = lambda x: x[1])\n",
        "    for i in distances[1:6]:\n",
        "        print(new.iloc[i[0]].title)\n",
        "\n",
        ""
      ],
      "metadata": {
        "execution": {
          "iopub.status.busy": "2021-06-21T12:38:22.542487Z",
          "iopub.execute_input": "2021-06-21T12:38:22.542900Z",
          "iopub.status.idle": "2021-06-21T12:38:22.549786Z",
          "shell.execute_reply.started": "2021-06-21T12:38:22.542867Z",
          "shell.execute_reply": "2021-06-21T12:38:22.548271Z"
        },
        "trusted": true,
        "id": "hNIIXrJ-nKDu"
      },
      "execution_count": null,
      "outputs": []
    },
    {
      "cell_type": "code",
      "source": [
        "recommend('Gandhi')"
      ],
      "metadata": {
        "execution": {
          "iopub.status.busy": "2021-06-21T12:38:24.914258Z",
          "iopub.execute_input": "2021-06-21T12:38:24.914650Z",
          "iopub.status.idle": "2021-06-21T12:38:24.930018Z",
          "shell.execute_reply.started": "2021-06-21T12:38:24.914616Z",
          "shell.execute_reply": "2021-06-21T12:38:24.928876Z"
        },
        "trusted": true,
        "id": "bM7s3HV7nKDu"
      },
      "execution_count": null,
      "outputs": []
    },
    {
      "cell_type": "code",
      "source": [
        "import pickle"
      ],
      "metadata": {
        "execution": {
          "iopub.status.busy": "2021-06-21T12:39:59.606475Z",
          "iopub.execute_input": "2021-06-21T12:39:59.606924Z",
          "iopub.status.idle": "2021-06-21T12:39:59.612177Z",
          "shell.execute_reply.started": "2021-06-21T12:39:59.606890Z",
          "shell.execute_reply": "2021-06-21T12:39:59.610858Z"
        },
        "trusted": true,
        "id": "X-WIfcejnKDu"
      },
      "execution_count": null,
      "outputs": []
    },
    {
      "cell_type": "code",
      "source": [
        "pickle.dump(new,open('movie_list.pkl','wb'))\n",
        "pickle.dump(similarity,open('similarity.pkl','wb'))"
      ],
      "metadata": {
        "execution": {
          "iopub.status.busy": "2021-06-21T12:40:53.373186Z",
          "iopub.execute_input": "2021-06-21T12:40:53.373581Z",
          "iopub.status.idle": "2021-06-21T12:40:53.784869Z",
          "shell.execute_reply.started": "2021-06-21T12:40:53.373547Z",
          "shell.execute_reply": "2021-06-21T12:40:53.783635Z"
        },
        "trusted": true,
        "id": "7s_qZ97DnKDv"
      },
      "execution_count": null,
      "outputs": []
    },
    {
      "cell_type": "code",
      "source": [],
      "metadata": {
        "id": "_lddX-YinKD4"
      },
      "execution_count": null,
      "outputs": []
    }
  ]
}